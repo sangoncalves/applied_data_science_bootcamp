{
  "nbformat": 4,
  "nbformat_minor": 0,
  "metadata": {
    "kernelspec": {
      "language": "python",
      "display_name": "Python 3",
      "name": "python3"
    },
    "language_info": {
      "name": "python",
      "version": "3.7.9",
      "mimetype": "text/x-python",
      "codemirror_mode": {
        "name": "ipython",
        "version": 3
      },
      "pygments_lexer": "ipython3",
      "nbconvert_exporter": "python",
      "file_extension": ".py"
    },
    "colab": {
      "name": "Sander_Martins_Gonçalves.ipynb",
      "provenance": [],
      "collapsed_sections": [],
      "include_colab_link": true
    },
    "widgets": {
      "application/vnd.jupyter.widget-state+json": {
        "30e67dfa6a394889bb6b9bba270a72a9": {
          "model_module": "@jupyter-widgets/controls",
          "model_name": "IntProgressModel",
          "state": {
            "_view_name": "ProgressView",
            "style": "IPY_MODEL_b7a2cefb85884d30b2fd354767de460c",
            "_dom_classes": [],
            "description": "Processing: ",
            "_model_name": "IntProgressModel",
            "bar_style": "",
            "max": 3,
            "_view_module": "@jupyter-widgets/controls",
            "_model_module_version": "1.5.0",
            "value": 3,
            "_view_count": null,
            "_view_module_version": "1.5.0",
            "orientation": "horizontal",
            "min": 0,
            "description_tooltip": null,
            "_model_module": "@jupyter-widgets/controls",
            "layout": "IPY_MODEL_89f5e6fecbd848ab88886e2ab3db1d20"
          }
        },
        "b7a2cefb85884d30b2fd354767de460c": {
          "model_module": "@jupyter-widgets/controls",
          "model_name": "ProgressStyleModel",
          "state": {
            "_view_name": "StyleView",
            "_model_name": "ProgressStyleModel",
            "description_width": "",
            "_view_module": "@jupyter-widgets/base",
            "_model_module_version": "1.5.0",
            "_view_count": null,
            "_view_module_version": "1.2.0",
            "bar_color": null,
            "_model_module": "@jupyter-widgets/controls"
          }
        },
        "89f5e6fecbd848ab88886e2ab3db1d20": {
          "model_module": "@jupyter-widgets/base",
          "model_name": "LayoutModel",
          "state": {
            "_view_name": "LayoutView",
            "grid_template_rows": null,
            "right": null,
            "justify_content": null,
            "_view_module": "@jupyter-widgets/base",
            "overflow": null,
            "_model_module_version": "1.2.0",
            "_view_count": null,
            "flex_flow": null,
            "width": null,
            "min_width": null,
            "border": null,
            "align_items": null,
            "bottom": null,
            "_model_module": "@jupyter-widgets/base",
            "top": null,
            "grid_column": null,
            "overflow_y": null,
            "overflow_x": null,
            "grid_auto_flow": null,
            "grid_area": null,
            "grid_template_columns": null,
            "flex": null,
            "_model_name": "LayoutModel",
            "justify_items": null,
            "grid_row": null,
            "max_height": null,
            "align_content": null,
            "visibility": null,
            "align_self": null,
            "height": null,
            "min_height": null,
            "padding": null,
            "grid_auto_rows": null,
            "grid_gap": null,
            "max_width": null,
            "order": null,
            "_view_module_version": "1.2.0",
            "grid_template_areas": null,
            "object_position": null,
            "object_fit": null,
            "grid_auto_columns": null,
            "margin": null,
            "display": null,
            "left": null
          }
        },
        "8cc7dc34572c4e2cb68fa52754eead4d": {
          "model_module": "@jupyter-widgets/controls",
          "model_name": "IntProgressModel",
          "state": {
            "_view_name": "ProgressView",
            "style": "IPY_MODEL_534e113518464cbcb9cebdaa7bc2435d",
            "_dom_classes": [],
            "description": "Processing: ",
            "_model_name": "IntProgressModel",
            "bar_style": "",
            "max": 5,
            "_view_module": "@jupyter-widgets/controls",
            "_model_module_version": "1.5.0",
            "value": 5,
            "_view_count": null,
            "_view_module_version": "1.5.0",
            "orientation": "horizontal",
            "min": 0,
            "description_tooltip": null,
            "_model_module": "@jupyter-widgets/controls",
            "layout": "IPY_MODEL_c82c540788914cb6bc955c40f0357d00"
          }
        },
        "534e113518464cbcb9cebdaa7bc2435d": {
          "model_module": "@jupyter-widgets/controls",
          "model_name": "ProgressStyleModel",
          "state": {
            "_view_name": "StyleView",
            "_model_name": "ProgressStyleModel",
            "description_width": "",
            "_view_module": "@jupyter-widgets/base",
            "_model_module_version": "1.5.0",
            "_view_count": null,
            "_view_module_version": "1.2.0",
            "bar_color": null,
            "_model_module": "@jupyter-widgets/controls"
          }
        },
        "c82c540788914cb6bc955c40f0357d00": {
          "model_module": "@jupyter-widgets/base",
          "model_name": "LayoutModel",
          "state": {
            "_view_name": "LayoutView",
            "grid_template_rows": null,
            "right": null,
            "justify_content": null,
            "_view_module": "@jupyter-widgets/base",
            "overflow": null,
            "_model_module_version": "1.2.0",
            "_view_count": null,
            "flex_flow": null,
            "width": null,
            "min_width": null,
            "border": null,
            "align_items": null,
            "bottom": null,
            "_model_module": "@jupyter-widgets/base",
            "top": null,
            "grid_column": null,
            "overflow_y": null,
            "overflow_x": null,
            "grid_auto_flow": null,
            "grid_area": null,
            "grid_template_columns": null,
            "flex": null,
            "_model_name": "LayoutModel",
            "justify_items": null,
            "grid_row": null,
            "max_height": null,
            "align_content": null,
            "visibility": null,
            "align_self": null,
            "height": null,
            "min_height": null,
            "padding": null,
            "grid_auto_rows": null,
            "grid_gap": null,
            "max_width": null,
            "order": null,
            "_view_module_version": "1.2.0",
            "grid_template_areas": null,
            "object_position": null,
            "object_fit": null,
            "grid_auto_columns": null,
            "margin": null,
            "display": null,
            "left": null
          }
        },
        "837db6cf9c5d42399e67b02be54207ea": {
          "model_module": "@jupyter-widgets/controls",
          "model_name": "IntProgressModel",
          "state": {
            "_view_name": "ProgressView",
            "style": "IPY_MODEL_49a42be68f084ebab4afd72512e0153c",
            "_dom_classes": [],
            "description": "Processing: ",
            "_model_name": "IntProgressModel",
            "bar_style": "",
            "max": 5,
            "_view_module": "@jupyter-widgets/controls",
            "_model_module_version": "1.5.0",
            "value": 5,
            "_view_count": null,
            "_view_module_version": "1.5.0",
            "orientation": "horizontal",
            "min": 0,
            "description_tooltip": null,
            "_model_module": "@jupyter-widgets/controls",
            "layout": "IPY_MODEL_126a6d596b064d9d9f47d5c617924bae"
          }
        },
        "49a42be68f084ebab4afd72512e0153c": {
          "model_module": "@jupyter-widgets/controls",
          "model_name": "ProgressStyleModel",
          "state": {
            "_view_name": "StyleView",
            "_model_name": "ProgressStyleModel",
            "description_width": "",
            "_view_module": "@jupyter-widgets/base",
            "_model_module_version": "1.5.0",
            "_view_count": null,
            "_view_module_version": "1.2.0",
            "bar_color": null,
            "_model_module": "@jupyter-widgets/controls"
          }
        },
        "126a6d596b064d9d9f47d5c617924bae": {
          "model_module": "@jupyter-widgets/base",
          "model_name": "LayoutModel",
          "state": {
            "_view_name": "LayoutView",
            "grid_template_rows": null,
            "right": null,
            "justify_content": null,
            "_view_module": "@jupyter-widgets/base",
            "overflow": null,
            "_model_module_version": "1.2.0",
            "_view_count": null,
            "flex_flow": null,
            "width": null,
            "min_width": null,
            "border": null,
            "align_items": null,
            "bottom": null,
            "_model_module": "@jupyter-widgets/base",
            "top": null,
            "grid_column": null,
            "overflow_y": null,
            "overflow_x": null,
            "grid_auto_flow": null,
            "grid_area": null,
            "grid_template_columns": null,
            "flex": null,
            "_model_name": "LayoutModel",
            "justify_items": null,
            "grid_row": null,
            "max_height": null,
            "align_content": null,
            "visibility": null,
            "align_self": null,
            "height": null,
            "min_height": null,
            "padding": null,
            "grid_auto_rows": null,
            "grid_gap": null,
            "max_width": null,
            "order": null,
            "_view_module_version": "1.2.0",
            "grid_template_areas": null,
            "object_position": null,
            "object_fit": null,
            "grid_auto_columns": null,
            "margin": null,
            "display": null,
            "left": null
          }
        }
      }
    }
  },
  "cells": [
    {
      "cell_type": "markdown",
      "metadata": {
        "id": "view-in-github",
        "colab_type": "text"
      },
      "source": [
        "<a href=\"https://colab.research.google.com/github/sangoncalves/applied_data_science_bootcamp/blob/main/Sander_Martins_Gon%C3%A7alves.ipynb\" target=\"_parent\"><img src=\"https://colab.research.google.com/assets/colab-badge.svg\" alt=\"Open In Colab\"/></a>"
      ]
    },
    {
      "cell_type": "markdown",
      "metadata": {
        "id": "L_gy4D0TgbsM"
      },
      "source": [
        "# DATA SICENCE BOOTCAMP - FINAL PROJECT"
      ]
    },
    {
      "cell_type": "markdown",
      "metadata": {
        "id": "zYe7cCC9gbsO"
      },
      "source": [
        "## 1.SCOPE"
      ]
    },
    {
      "cell_type": "markdown",
      "metadata": {
        "id": "5GsEMzJBgbsP"
      },
      "source": [
        "### 1.1 DESCRIPTION\n",
        "Final project of \"Applied Data Science\" Bootcamp (Alura). This project has as objective put into practice the knowledge gathered throughout the bootcamp by analysing a dataset that resambles a real case scenario. \n",
        "\n",
        "\n",
        "---\n",
        "\n"
      ]
    },
    {
      "cell_type": "markdown",
      "metadata": {
        "id": "PulZYj7hgbsQ"
      },
      "source": [
        "### 1.2 OBJECTIVE\n",
        "\n",
        "Predict which patients will need to be admitted to the intensive care unit and thus define the need for hospital ICU beds, based on the individual clinical data available.\n",
        "****"
      ]
    },
    {
      "cell_type": "markdown",
      "metadata": {
        "id": "8dSisG8_gbsR"
      },
      "source": [
        "### 1.3 DATA\n",
        "\n",
        "**Main dataset (Kaggle):** [COVID-19](https://www.kaggle.com/Sírio-Libanes/covid19) (Hospital Sírio Libanês - São Paulo e Brasília - Brazil )  \n",
        "<br>\n",
        "This dataset contains the following variables:\n",
        "1. Demographic info - 3 variables\n",
        "2. Pre-existing diseases - 9 variables\n",
        "3. Blood test results - 36 variables\n",
        "4. Vital signs - 6 variables\n",
        "\n",
        "\n",
        "---\n",
        "\n"
      ]
    },
    {
      "cell_type": "markdown",
      "metadata": {
        "id": "eDddD54XgbsR"
      },
      "source": [
        "### 1.4 MODELS TO BE ANALYSED\n",
        "* Logistic Regression\n",
        "* Random Forest Classifier\n",
        "* SVM - Linear Kernel\n",
        "* Decision Tree Classifier\n",
        "* Naive Bayes\n",
        "* K Neighbors Classifier\n",
        "\n",
        "\n",
        "---\n",
        "\n"
      ]
    },
    {
      "cell_type": "markdown",
      "metadata": {
        "id": "3ArhXtdhgbsR"
      },
      "source": [
        "## 2.LIBRARIES"
      ]
    },
    {
      "cell_type": "code",
      "metadata": {
        "trusted": true,
        "id": "4chn9CQugbsS"
      },
      "source": [
        "#GENERAL USE LIBRARIES\n",
        "import os\n",
        "import pandas as pd\n",
        "import numpy as np\n",
        "!pip install varname &> /dev/null #take the name of a variable\n",
        "from varname import nameof\n",
        "!conda install openpyxl -y &> /dev/null #used this due to some error while using the read_excel function.\n",
        "import warnings\n",
        "warnings.filterwarnings('ignore')\n",
        "\n",
        "#MODELS AND SETUP (DEFINE THE PROCESSING TO BE DONE ON DATA, LIKE PCA.)\n",
        "!pip install pycaret[full] &> /dev/null\n",
        "from pycaret.classification import *\n",
        "\n",
        "#STYLING\n",
        "from IPython.display import HTML"
      ],
      "execution_count": 1,
      "outputs": []
    },
    {
      "cell_type": "markdown",
      "metadata": {
        "id": "yiMDSvyzgbsT"
      },
      "source": [
        "## 3.FUNCTIONS"
      ]
    },
    {
      "cell_type": "code",
      "metadata": {
        "trusted": true,
        "id": "HlebBN5_gbsW"
      },
      "source": [
        "#PREPROCESSING AND CLEANING\n",
        "def df_processing(df):\n",
        "  '''\n",
        "  DATA CLEANING CASES:\n",
        "  * cleaning 1 - \"WINDOW\" 0-2 and \"ICU\" 1. This case represents patient that arrived at the hospital with need of using ICU, we have nothing to predict in this case.\n",
        "  * cleaning 2 - \"AGE_PERCENTIL\" seems to be just a range to anonymize the data. We can transform this column into integer and check if it is relevant to the analysis\n",
        "  * cleaning 3 - dropping 'WINDOW' since we won't be predicting the window\n",
        "  * cleaning 4 - grouping patient and removing the NAN by using the mean\n",
        "  * cleaning 5 - the mean will change the ICU value to *0* or a *number less than 1* (1 divided by the number of windows). So we update this number back to 1.\n",
        "  '''\n",
        "\n",
        "  #cleaning 1\n",
        "  df_covid_clean = df.query(\"not(WINDOW == '0-2' & ICU == 1)\") #Mandatory condition\n",
        "\n",
        "  #cleaning 2\n",
        "  df_covid_clean['AGE_PERCENTIL'] = np.where((df_covid_clean.AGE_PERCENTIL == 'Above 90th'),'100',df_covid_clean.AGE_PERCENTIL)\n",
        "  df_covid_clean[\"AGE_PERCENTIL\"] = df_covid_clean[\"AGE_PERCENTIL\"].map(lambda x: x.rstrip('th')).astype(\"category\")\n",
        "  \n",
        "  #cleaning 3\n",
        "  df_covid_no_window = df_covid_clean.drop('WINDOW', axis =1)\n",
        "\n",
        "  #cleaning 4\n",
        "  df_covid_grouped = df_covid_no_window.groupby(by='PATIENT_VISIT_IDENTIFIER').mean()\n",
        "\n",
        "  #cleaning 5\n",
        "  df_covid_grouped.loc[df_covid_grouped.ICU>0,'ICU']=1\n",
        "\n",
        "  return df_covid_grouped\n",
        "\n",
        "#HIGHLITES THE HIGHEST VALUE FOR EACH COLUMN\n",
        "def highlight_max(s):\n",
        "  '''\n",
        "  highlight the maximum in a Series yellow.\n",
        "  '''\n",
        "  is_max = s == s.max()\n",
        "  return ['background-color: #7CFC00; color:black; font-weight:semi-bold' if v else '' for v in is_max]\n",
        "\n",
        "#ADD HOVER EFFECT TO THE TABLE\n",
        "def hover(hover_color=\"#A5F2F380\"):\n",
        "    return dict(selector=\"tr:hover\",\n",
        "                props=[(\"background-color\", \"%s\" % hover_color)])\n",
        "\n",
        "#HIDES INDEX, CHANGES FONT SIZE AND ALIGNMENT\n",
        "def df_styling(df):\n",
        "  styles = [\n",
        "      hover(),\n",
        "      dict(selector=\"th\", props=[(\"font-size\", \"120%\"),\n",
        "                                (\"text-align\", \"center\")])\n",
        "  ]\n",
        "  with pd.option_context('display.precision', 4):\n",
        "    df_styled = (df.style.hide_index().set_table_styles(styles)).apply(highlight_max,\n",
        "                subset=pd.IndexSlice[:,['Accuracy', 'AUC', 'Recall', 'Prec.', 'F1', 'Kappa', 'MCC']])\n",
        "    return df_styled"
      ],
      "execution_count": 2,
      "outputs": []
    },
    {
      "cell_type": "markdown",
      "metadata": {
        "id": "TQh_44ZSCYFB"
      },
      "source": [
        "## 4.LOADING DATA AND DEFINING SETUP"
      ]
    },
    {
      "cell_type": "code",
      "metadata": {
        "id": "JcRb6iqk6UrC"
      },
      "source": [
        "#LOADING DATASET\n",
        "df_covid = pd.read_excel('https://github.com/alura-cursos/covid-19-clinical/blob/main/Kaggle_Sirio_Libanes_ICU_Prediction.xlsx?raw=true')\n",
        "\n",
        "#CLEANING AND PREPROCESSING\n",
        "data = df_processing(df_covid)"
      ],
      "execution_count": 3,
      "outputs": []
    },
    {
      "cell_type": "markdown",
      "metadata": {
        "id": "xSDGkuP1d1SW"
      },
      "source": [
        " **Initializing setup and setting the processing configuration:**\n",
        "\n",
        "-> defining a seed for recomputation\n",
        "\n",
        "-> applying pca to reduce the features (holding 95% of variability) and avoid overfitting\n",
        "\n",
        "-> normalizing the data and substituing the NA's by the mean of the data.\n",
        "\n",
        "-> splitting 0.7/0.3 (train/test) \n",
        "\n",
        "-> shuffling and splitting the data in a stratified way\n",
        "\n",
        "-> applying 10 fold cross validation"
      ]
    },
    {
      "cell_type": "code",
      "metadata": {
        "id": "VqTBVM_IleU0",
        "colab": {
          "base_uri": "https://localhost:8080/",
          "height": 1000,
          "referenced_widgets": [
            "30e67dfa6a394889bb6b9bba270a72a9",
            "b7a2cefb85884d30b2fd354767de460c",
            "89f5e6fecbd848ab88886e2ab3db1d20"
          ]
        },
        "outputId": "8d2e7c0b-0909-4aca-f914-09b857778b7c"
      },
      "source": [
        "settings = setup(data, target=\"ICU\", silent= True,session_id = 141414,\n",
        "                pca=True, pca_components = .95,\n",
        "                normalize= True,\n",
        "                train_size = 0.7, \n",
        "                data_split_shuffle=True,data_split_stratify=True,\n",
        "                fold_strategy = 'stratifiedkfold',fold =10,fold_shuffle = True)\n",
        "# this \"settings\" variable will be automatically used on the pycaret models, don't need to call this variable on the functions bellow."
      ],
      "execution_count": 4,
      "outputs": [
        {
          "output_type": "display_data",
          "data": {
            "text/html": [
              "<div>\n",
              "<style scoped>\n",
              "    .dataframe tbody tr th:only-of-type {\n",
              "        vertical-align: middle;\n",
              "    }\n",
              "\n",
              "    .dataframe tbody tr th {\n",
              "        vertical-align: top;\n",
              "    }\n",
              "\n",
              "    .dataframe thead th {\n",
              "        text-align: right;\n",
              "    }\n",
              "</style>\n",
              "<table border=\"1\" class=\"dataframe\">\n",
              "  <thead>\n",
              "    <tr style=\"text-align: right;\">\n",
              "      <th></th>\n",
              "      <th>Description</th>\n",
              "      <th>Value</th>\n",
              "    </tr>\n",
              "  </thead>\n",
              "  <tbody>\n",
              "    <tr>\n",
              "      <th>0</th>\n",
              "      <td>session_id</td>\n",
              "      <td>141414</td>\n",
              "    </tr>\n",
              "    <tr>\n",
              "      <th>1</th>\n",
              "      <td>Target</td>\n",
              "      <td>ICU</td>\n",
              "    </tr>\n",
              "    <tr>\n",
              "      <th>2</th>\n",
              "      <td>Target Type</td>\n",
              "      <td>Binary</td>\n",
              "    </tr>\n",
              "    <tr>\n",
              "      <th>3</th>\n",
              "      <td>Label Encoded</td>\n",
              "      <td>0.0: 0, 1.0: 1</td>\n",
              "    </tr>\n",
              "    <tr>\n",
              "      <th>4</th>\n",
              "      <td>Original Data</td>\n",
              "      <td>(385, 228)</td>\n",
              "    </tr>\n",
              "    <tr>\n",
              "      <th>5</th>\n",
              "      <td>Missing Values</td>\n",
              "      <td>True</td>\n",
              "    </tr>\n",
              "    <tr>\n",
              "      <th>6</th>\n",
              "      <td>Numeric Features</td>\n",
              "      <td>189</td>\n",
              "    </tr>\n",
              "    <tr>\n",
              "      <th>7</th>\n",
              "      <td>Categorical Features</td>\n",
              "      <td>38</td>\n",
              "    </tr>\n",
              "    <tr>\n",
              "      <th>8</th>\n",
              "      <td>Ordinal Features</td>\n",
              "      <td>False</td>\n",
              "    </tr>\n",
              "    <tr>\n",
              "      <th>9</th>\n",
              "      <td>High Cardinality Features</td>\n",
              "      <td>False</td>\n",
              "    </tr>\n",
              "    <tr>\n",
              "      <th>10</th>\n",
              "      <td>High Cardinality Method</td>\n",
              "      <td>None</td>\n",
              "    </tr>\n",
              "    <tr>\n",
              "      <th>11</th>\n",
              "      <td>Transformed Train Set</td>\n",
              "      <td>(269, 34)</td>\n",
              "    </tr>\n",
              "    <tr>\n",
              "      <th>12</th>\n",
              "      <td>Transformed Test Set</td>\n",
              "      <td>(116, 34)</td>\n",
              "    </tr>\n",
              "    <tr>\n",
              "      <th>13</th>\n",
              "      <td>Shuffle Train-Test</td>\n",
              "      <td>True</td>\n",
              "    </tr>\n",
              "    <tr>\n",
              "      <th>14</th>\n",
              "      <td>Stratify Train-Test</td>\n",
              "      <td>True</td>\n",
              "    </tr>\n",
              "    <tr>\n",
              "      <th>15</th>\n",
              "      <td>Fold Generator</td>\n",
              "      <td>StratifiedKFold</td>\n",
              "    </tr>\n",
              "    <tr>\n",
              "      <th>16</th>\n",
              "      <td>Fold Number</td>\n",
              "      <td>10</td>\n",
              "    </tr>\n",
              "    <tr>\n",
              "      <th>17</th>\n",
              "      <td>CPU Jobs</td>\n",
              "      <td>-1</td>\n",
              "    </tr>\n",
              "    <tr>\n",
              "      <th>18</th>\n",
              "      <td>Use GPU</td>\n",
              "      <td>False</td>\n",
              "    </tr>\n",
              "    <tr>\n",
              "      <th>19</th>\n",
              "      <td>Log Experiment</td>\n",
              "      <td>False</td>\n",
              "    </tr>\n",
              "    <tr>\n",
              "      <th>20</th>\n",
              "      <td>Experiment Name</td>\n",
              "      <td>clf-default-name</td>\n",
              "    </tr>\n",
              "    <tr>\n",
              "      <th>21</th>\n",
              "      <td>USI</td>\n",
              "      <td>fadc</td>\n",
              "    </tr>\n",
              "    <tr>\n",
              "      <th>22</th>\n",
              "      <td>Imputation Type</td>\n",
              "      <td>simple</td>\n",
              "    </tr>\n",
              "    <tr>\n",
              "      <th>23</th>\n",
              "      <td>Iterative Imputation Iteration</td>\n",
              "      <td>None</td>\n",
              "    </tr>\n",
              "    <tr>\n",
              "      <th>24</th>\n",
              "      <td>Numeric Imputer</td>\n",
              "      <td>mean</td>\n",
              "    </tr>\n",
              "    <tr>\n",
              "      <th>25</th>\n",
              "      <td>Iterative Imputation Numeric Model</td>\n",
              "      <td>None</td>\n",
              "    </tr>\n",
              "    <tr>\n",
              "      <th>26</th>\n",
              "      <td>Categorical Imputer</td>\n",
              "      <td>constant</td>\n",
              "    </tr>\n",
              "    <tr>\n",
              "      <th>27</th>\n",
              "      <td>Iterative Imputation Categorical Model</td>\n",
              "      <td>None</td>\n",
              "    </tr>\n",
              "    <tr>\n",
              "      <th>28</th>\n",
              "      <td>Unknown Categoricals Handling</td>\n",
              "      <td>least_frequent</td>\n",
              "    </tr>\n",
              "    <tr>\n",
              "      <th>29</th>\n",
              "      <td>Normalize</td>\n",
              "      <td>True</td>\n",
              "    </tr>\n",
              "    <tr>\n",
              "      <th>30</th>\n",
              "      <td>Normalize Method</td>\n",
              "      <td>zscore</td>\n",
              "    </tr>\n",
              "    <tr>\n",
              "      <th>31</th>\n",
              "      <td>Transformation</td>\n",
              "      <td>False</td>\n",
              "    </tr>\n",
              "    <tr>\n",
              "      <th>32</th>\n",
              "      <td>Transformation Method</td>\n",
              "      <td>None</td>\n",
              "    </tr>\n",
              "    <tr>\n",
              "      <th>33</th>\n",
              "      <td>PCA</td>\n",
              "      <td>True</td>\n",
              "    </tr>\n",
              "    <tr>\n",
              "      <th>34</th>\n",
              "      <td>PCA Method</td>\n",
              "      <td>linear</td>\n",
              "    </tr>\n",
              "    <tr>\n",
              "      <th>35</th>\n",
              "      <td>PCA Components</td>\n",
              "      <td>0.95</td>\n",
              "    </tr>\n",
              "    <tr>\n",
              "      <th>36</th>\n",
              "      <td>Ignore Low Variance</td>\n",
              "      <td>False</td>\n",
              "    </tr>\n",
              "    <tr>\n",
              "      <th>37</th>\n",
              "      <td>Combine Rare Levels</td>\n",
              "      <td>False</td>\n",
              "    </tr>\n",
              "    <tr>\n",
              "      <th>38</th>\n",
              "      <td>Rare Level Threshold</td>\n",
              "      <td>None</td>\n",
              "    </tr>\n",
              "    <tr>\n",
              "      <th>39</th>\n",
              "      <td>Numeric Binning</td>\n",
              "      <td>False</td>\n",
              "    </tr>\n",
              "    <tr>\n",
              "      <th>40</th>\n",
              "      <td>Remove Outliers</td>\n",
              "      <td>False</td>\n",
              "    </tr>\n",
              "    <tr>\n",
              "      <th>41</th>\n",
              "      <td>Outliers Threshold</td>\n",
              "      <td>None</td>\n",
              "    </tr>\n",
              "    <tr>\n",
              "      <th>42</th>\n",
              "      <td>Remove Multicollinearity</td>\n",
              "      <td>False</td>\n",
              "    </tr>\n",
              "    <tr>\n",
              "      <th>43</th>\n",
              "      <td>Multicollinearity Threshold</td>\n",
              "      <td>None</td>\n",
              "    </tr>\n",
              "    <tr>\n",
              "      <th>44</th>\n",
              "      <td>Clustering</td>\n",
              "      <td>False</td>\n",
              "    </tr>\n",
              "    <tr>\n",
              "      <th>45</th>\n",
              "      <td>Clustering Iteration</td>\n",
              "      <td>None</td>\n",
              "    </tr>\n",
              "    <tr>\n",
              "      <th>46</th>\n",
              "      <td>Polynomial Features</td>\n",
              "      <td>False</td>\n",
              "    </tr>\n",
              "    <tr>\n",
              "      <th>47</th>\n",
              "      <td>Polynomial Degree</td>\n",
              "      <td>None</td>\n",
              "    </tr>\n",
              "    <tr>\n",
              "      <th>48</th>\n",
              "      <td>Trignometry Features</td>\n",
              "      <td>False</td>\n",
              "    </tr>\n",
              "    <tr>\n",
              "      <th>49</th>\n",
              "      <td>Polynomial Threshold</td>\n",
              "      <td>None</td>\n",
              "    </tr>\n",
              "    <tr>\n",
              "      <th>50</th>\n",
              "      <td>Group Features</td>\n",
              "      <td>False</td>\n",
              "    </tr>\n",
              "    <tr>\n",
              "      <th>51</th>\n",
              "      <td>Feature Selection</td>\n",
              "      <td>False</td>\n",
              "    </tr>\n",
              "    <tr>\n",
              "      <th>52</th>\n",
              "      <td>Feature Selection Method</td>\n",
              "      <td>classic</td>\n",
              "    </tr>\n",
              "    <tr>\n",
              "      <th>53</th>\n",
              "      <td>Features Selection Threshold</td>\n",
              "      <td>None</td>\n",
              "    </tr>\n",
              "    <tr>\n",
              "      <th>54</th>\n",
              "      <td>Feature Interaction</td>\n",
              "      <td>False</td>\n",
              "    </tr>\n",
              "    <tr>\n",
              "      <th>55</th>\n",
              "      <td>Feature Ratio</td>\n",
              "      <td>False</td>\n",
              "    </tr>\n",
              "    <tr>\n",
              "      <th>56</th>\n",
              "      <td>Interaction Threshold</td>\n",
              "      <td>None</td>\n",
              "    </tr>\n",
              "    <tr>\n",
              "      <th>57</th>\n",
              "      <td>Fix Imbalance</td>\n",
              "      <td>False</td>\n",
              "    </tr>\n",
              "    <tr>\n",
              "      <th>58</th>\n",
              "      <td>Fix Imbalance Method</td>\n",
              "      <td>SMOTE</td>\n",
              "    </tr>\n",
              "  </tbody>\n",
              "</table>\n",
              "</div>"
            ],
            "text/plain": [
              "                               Description             Value\n",
              "0                               session_id            141414\n",
              "1                                   Target               ICU\n",
              "2                              Target Type            Binary\n",
              "3                            Label Encoded    0.0: 0, 1.0: 1\n",
              "4                            Original Data        (385, 228)\n",
              "5                           Missing Values              True\n",
              "6                         Numeric Features               189\n",
              "7                     Categorical Features                38\n",
              "8                         Ordinal Features             False\n",
              "9                High Cardinality Features             False\n",
              "10                 High Cardinality Method              None\n",
              "11                   Transformed Train Set         (269, 34)\n",
              "12                    Transformed Test Set         (116, 34)\n",
              "13                      Shuffle Train-Test              True\n",
              "14                     Stratify Train-Test              True\n",
              "15                          Fold Generator   StratifiedKFold\n",
              "16                             Fold Number                10\n",
              "17                                CPU Jobs                -1\n",
              "18                                 Use GPU             False\n",
              "19                          Log Experiment             False\n",
              "20                         Experiment Name  clf-default-name\n",
              "21                                     USI              fadc\n",
              "22                         Imputation Type            simple\n",
              "23          Iterative Imputation Iteration              None\n",
              "24                         Numeric Imputer              mean\n",
              "25      Iterative Imputation Numeric Model              None\n",
              "26                     Categorical Imputer          constant\n",
              "27  Iterative Imputation Categorical Model              None\n",
              "28           Unknown Categoricals Handling    least_frequent\n",
              "29                               Normalize              True\n",
              "30                        Normalize Method            zscore\n",
              "31                          Transformation             False\n",
              "32                   Transformation Method              None\n",
              "33                                     PCA              True\n",
              "34                              PCA Method            linear\n",
              "35                          PCA Components              0.95\n",
              "36                     Ignore Low Variance             False\n",
              "37                     Combine Rare Levels             False\n",
              "38                    Rare Level Threshold              None\n",
              "39                         Numeric Binning             False\n",
              "40                         Remove Outliers             False\n",
              "41                      Outliers Threshold              None\n",
              "42                Remove Multicollinearity             False\n",
              "43             Multicollinearity Threshold              None\n",
              "44                              Clustering             False\n",
              "45                    Clustering Iteration              None\n",
              "46                     Polynomial Features             False\n",
              "47                       Polynomial Degree              None\n",
              "48                    Trignometry Features             False\n",
              "49                    Polynomial Threshold              None\n",
              "50                          Group Features             False\n",
              "51                       Feature Selection             False\n",
              "52                Feature Selection Method           classic\n",
              "53            Features Selection Threshold              None\n",
              "54                     Feature Interaction             False\n",
              "55                           Feature Ratio             False\n",
              "56                   Interaction Threshold              None\n",
              "57                           Fix Imbalance             False\n",
              "58                    Fix Imbalance Method             SMOTE"
            ]
          },
          "metadata": {
            "tags": []
          }
        }
      ]
    },
    {
      "cell_type": "markdown",
      "metadata": {
        "id": "QvyMxGX97yCZ"
      },
      "source": [
        "## 5.MODEL COMPARISON"
      ]
    },
    {
      "cell_type": "markdown",
      "metadata": {
        "id": "qqjn7JDc8ez1"
      },
      "source": [
        "In this section we will be comparing the possible models to be used and which one would be the best alternative for this project. This process will be divided into 4 parts:\n",
        "* **Information related to blended and stacked models**\n",
        "* **Training and tunning**\n",
        "* **Model comparison**\n",
        "* **Model selection**\n",
        "\n",
        "After comparing all models, the one with the highest **Recall** is chosen if the other metrics are high enough. \n",
        "\n",
        "The criteria of recall is chosen as the main important due to the nature of our problem, which is:\n",
        "\n",
        " **Predicting that a person won't be needing ICU incorrectly (false negative) is perceived as worse case scenario**.\n",
        "\n",
        "\n",
        "---\n",
        "\n"
      ]
    },
    {
      "cell_type": "markdown",
      "metadata": {
        "id": "YQFK_ZKvLb3a"
      },
      "source": [
        "#### 5.1 **BLENDED MODEL**\n",
        "Blended models use conjoint models for the output. The ilustration of a decision tree for a random forest suits well for explaining how a blended model works. Since the output would be the majority of the outputs of the models. \n",
        "\n",
        "There are two way of using the models in conjoint, **hard** or **soft**. In our case we are going to use the soft method and analysing the top models from the initial comparison list.\n",
        "\n",
        "\n",
        "**‘hard’** -> uses **predicted class labels** (output of the models) for the final decision.\n",
        "\n",
        "**‘soft’** -> predicts the class label based on the argmax (the highest value) of the sums of the **predicted probabilities**.\n",
        "\n",
        "\n",
        "---\n",
        "\n"
      ]
    },
    {
      "cell_type": "markdown",
      "metadata": {
        "id": "j8T8ssAE4q7v"
      },
      "source": [
        "#### 5.2 **STACKED MODEL**\n",
        "\n",
        "The idea of stacking models is to use the output of a number of models as the input of the **meta-model** (the model that is going to decide the classification). In the sense of using multiple models, stacked models are similar to blended models.\n",
        "\n",
        "\n",
        "---\n",
        "\n"
      ]
    },
    {
      "cell_type": "markdown",
      "metadata": {
        "id": "sABorjTeDFna"
      },
      "source": [
        "### 5.3 MODEL TRAINING AND COMPARISON"
      ]
    },
    {
      "cell_type": "markdown",
      "metadata": {
        "id": "xtZZBa3Iz1Ot"
      },
      "source": [
        "The following models will be using the data processed on the previous step (SETUP). Pycaret model functions automatically takes the processed data without the need of formally add as parameter."
      ]
    },
    {
      "cell_type": "code",
      "metadata": {
        "id": "Hba4FeHWzccm"
      },
      "source": [
        "#MODEL TRAINING\n",
        "lr_model  = create_model('lr', verbose=False)\n",
        "knn_model = create_model('knn',verbose=False)\n",
        "nb_model  = create_model('nb', verbose=False)\n",
        "dt_model  = create_model('dt', verbose=False)\n",
        "svm_model = create_model('svm',verbose=False)\n",
        "rf_model  = create_model('rf', verbose=False)\n",
        "\n",
        "#MODEL TUNING\n",
        "lr_tuned  = tune_model(lr_model, verbose=False,optimize=\"Recall\", fold = 10)\n",
        "knn_tuned = tune_model(knn_model,verbose=False,optimize=\"Recall\", fold = 10)\n",
        "nb_tuned  = tune_model(nb_model, verbose=False,optimize=\"Recall\", fold = 10)\n",
        "dt_tuned  = tune_model(dt_model, verbose=False,optimize=\"Recall\", fold = 10)\n",
        "svm_tuned = tune_model(svm_model,verbose=False,optimize=\"Recall\", fold = 10)\n",
        "rf_tuned  = tune_model(rf_model, verbose=False,optimize=\"Recall\", fold = 10)\n",
        "\n",
        "#CREATING BLENDED AND STACKED MODELS FROM THE TUNED MODELS\n",
        "blended = blend_models( estimator_list=[lr_tuned,knn_tuned,nb_tuned,dt_tuned,svm_tuned,rf_tuned],optimize = \"Recall\",verbose=False) \n",
        "stacked = stack_models(estimator_list = [knn_tuned,nb_tuned,dt_tuned,svm_tuned,rf_tuned], meta_model = lr_tuned,optimize = \"Recall\",verbose=False)\n"
      ],
      "execution_count": 5,
      "outputs": []
    },
    {
      "cell_type": "code",
      "metadata": {
        "id": "8ngCDz_G-pPg",
        "outputId": "ac9b403d-53b8-43d9-9674-428ec0af5fc4",
        "colab": {
          "base_uri": "https://localhost:8080/",
          "height": 211
        }
      },
      "source": [
        "#LIST OF THE MODELS ABOVE\n",
        "model_list=[lr_tuned,knn_tuned,nb_tuned,dt_tuned,svm_tuned,rf_tuned,blended,stacked]\n",
        "\n",
        "#CREATING A REPORT WITH ALL METRICS AND MODELS\n",
        "df = pd.DataFrame(columns=['Model', 'Accuracy', 'AUC', 'Recall', 'Prec.', 'F1', 'Kappa', 'MCC']) #empty dataframe\n",
        "for model in model_list:  \n",
        "  y_pred = predict_model(model,verbose=False)\n",
        "  arr = pull().values[0]\n",
        "  data_to_append = {}\n",
        "  for i in range(len(df.columns)):\n",
        "    data_to_append[df.columns[i]] = arr[i]\n",
        "  df = df.append(data_to_append, ignore_index = True)\n",
        "df = df.sort_values(by='Recall',ascending=False)\n",
        "\n",
        "#HIGHLIGHTING THE HIGHEST VALUE FOR EACH METRIC AND STYLING\n",
        "df_styling(df)"
      ],
      "execution_count": 6,
      "outputs": [
        {
          "output_type": "execute_result",
          "data": {
            "text/html": [
              "<style  type=\"text/css\" >\n",
              "    #T_dd20058a_a85f_11eb_a249_0242ac1c0002 tr:hover {\n",
              "          background-color: #A5F2F380;\n",
              "    }    #T_dd20058a_a85f_11eb_a249_0242ac1c0002 th {\n",
              "          font-size: 120%;\n",
              "          text-align: center;\n",
              "    }#T_dd20058a_a85f_11eb_a249_0242ac1c0002row0_col3,#T_dd20058a_a85f_11eb_a249_0242ac1c0002row1_col1,#T_dd20058a_a85f_11eb_a249_0242ac1c0002row1_col5,#T_dd20058a_a85f_11eb_a249_0242ac1c0002row1_col6,#T_dd20058a_a85f_11eb_a249_0242ac1c0002row1_col7,#T_dd20058a_a85f_11eb_a249_0242ac1c0002row4_col2,#T_dd20058a_a85f_11eb_a249_0242ac1c0002row5_col4{\n",
              "            background-color:  #7CFC00;\n",
              "             color: black;\n",
              "             font-weight: semi-bold;\n",
              "        }</style><table id=\"T_dd20058a_a85f_11eb_a249_0242ac1c0002\" ><thead>    <tr>        <th class=\"col_heading level0 col0\" >Model</th>        <th class=\"col_heading level0 col1\" >Accuracy</th>        <th class=\"col_heading level0 col2\" >AUC</th>        <th class=\"col_heading level0 col3\" >Recall</th>        <th class=\"col_heading level0 col4\" >Prec.</th>        <th class=\"col_heading level0 col5\" >F1</th>        <th class=\"col_heading level0 col6\" >Kappa</th>        <th class=\"col_heading level0 col7\" >MCC</th>    </tr></thead><tbody>\n",
              "                <tr>\n",
              "                                <td id=\"T_dd20058a_a85f_11eb_a249_0242ac1c0002row0_col0\" class=\"data row0 col0\" >Decision Tree Classifier</td>\n",
              "                        <td id=\"T_dd20058a_a85f_11eb_a249_0242ac1c0002row0_col1\" class=\"data row0 col1\" >0.5086</td>\n",
              "                        <td id=\"T_dd20058a_a85f_11eb_a249_0242ac1c0002row0_col2\" class=\"data row0 col2\" >0.5000</td>\n",
              "                        <td id=\"T_dd20058a_a85f_11eb_a249_0242ac1c0002row0_col3\" class=\"data row0 col3\" >1.0000</td>\n",
              "                        <td id=\"T_dd20058a_a85f_11eb_a249_0242ac1c0002row0_col4\" class=\"data row0 col4\" >0.5086</td>\n",
              "                        <td id=\"T_dd20058a_a85f_11eb_a249_0242ac1c0002row0_col5\" class=\"data row0 col5\" >0.6743</td>\n",
              "                        <td id=\"T_dd20058a_a85f_11eb_a249_0242ac1c0002row0_col6\" class=\"data row0 col6\" >0.0000</td>\n",
              "                        <td id=\"T_dd20058a_a85f_11eb_a249_0242ac1c0002row0_col7\" class=\"data row0 col7\" >0.0000</td>\n",
              "            </tr>\n",
              "            <tr>\n",
              "                                <td id=\"T_dd20058a_a85f_11eb_a249_0242ac1c0002row1_col0\" class=\"data row1 col0\" >Logistic Regression</td>\n",
              "                        <td id=\"T_dd20058a_a85f_11eb_a249_0242ac1c0002row1_col1\" class=\"data row1 col1\" >0.8966</td>\n",
              "                        <td id=\"T_dd20058a_a85f_11eb_a249_0242ac1c0002row1_col2\" class=\"data row1 col2\" >0.9334</td>\n",
              "                        <td id=\"T_dd20058a_a85f_11eb_a249_0242ac1c0002row1_col3\" class=\"data row1 col3\" >0.8983</td>\n",
              "                        <td id=\"T_dd20058a_a85f_11eb_a249_0242ac1c0002row1_col4\" class=\"data row1 col4\" >0.8983</td>\n",
              "                        <td id=\"T_dd20058a_a85f_11eb_a249_0242ac1c0002row1_col5\" class=\"data row1 col5\" >0.8983</td>\n",
              "                        <td id=\"T_dd20058a_a85f_11eb_a249_0242ac1c0002row1_col6\" class=\"data row1 col6\" >0.7930</td>\n",
              "                        <td id=\"T_dd20058a_a85f_11eb_a249_0242ac1c0002row1_col7\" class=\"data row1 col7\" >0.7930</td>\n",
              "            </tr>\n",
              "            <tr>\n",
              "                                <td id=\"T_dd20058a_a85f_11eb_a249_0242ac1c0002row2_col0\" class=\"data row2 col0\" >SVM - Linear Kernel</td>\n",
              "                        <td id=\"T_dd20058a_a85f_11eb_a249_0242ac1c0002row2_col1\" class=\"data row2 col1\" >0.8621</td>\n",
              "                        <td id=\"T_dd20058a_a85f_11eb_a249_0242ac1c0002row2_col2\" class=\"data row2 col2\" >0.8617</td>\n",
              "                        <td id=\"T_dd20058a_a85f_11eb_a249_0242ac1c0002row2_col3\" class=\"data row2 col3\" >0.8814</td>\n",
              "                        <td id=\"T_dd20058a_a85f_11eb_a249_0242ac1c0002row2_col4\" class=\"data row2 col4\" >0.8525</td>\n",
              "                        <td id=\"T_dd20058a_a85f_11eb_a249_0242ac1c0002row2_col5\" class=\"data row2 col5\" >0.8667</td>\n",
              "                        <td id=\"T_dd20058a_a85f_11eb_a249_0242ac1c0002row2_col6\" class=\"data row2 col6\" >0.7239</td>\n",
              "                        <td id=\"T_dd20058a_a85f_11eb_a249_0242ac1c0002row2_col7\" class=\"data row2 col7\" >0.7243</td>\n",
              "            </tr>\n",
              "            <tr>\n",
              "                                <td id=\"T_dd20058a_a85f_11eb_a249_0242ac1c0002row3_col0\" class=\"data row3 col0\" >Random Forest Classifier</td>\n",
              "                        <td id=\"T_dd20058a_a85f_11eb_a249_0242ac1c0002row3_col1\" class=\"data row3 col1\" >0.8707</td>\n",
              "                        <td id=\"T_dd20058a_a85f_11eb_a249_0242ac1c0002row3_col2\" class=\"data row3 col2\" >0.9286</td>\n",
              "                        <td id=\"T_dd20058a_a85f_11eb_a249_0242ac1c0002row3_col3\" class=\"data row3 col3\" >0.8814</td>\n",
              "                        <td id=\"T_dd20058a_a85f_11eb_a249_0242ac1c0002row3_col4\" class=\"data row3 col4\" >0.8667</td>\n",
              "                        <td id=\"T_dd20058a_a85f_11eb_a249_0242ac1c0002row3_col5\" class=\"data row3 col5\" >0.8739</td>\n",
              "                        <td id=\"T_dd20058a_a85f_11eb_a249_0242ac1c0002row3_col6\" class=\"data row3 col6\" >0.7412</td>\n",
              "                        <td id=\"T_dd20058a_a85f_11eb_a249_0242ac1c0002row3_col7\" class=\"data row3 col7\" >0.7413</td>\n",
              "            </tr>\n",
              "            <tr>\n",
              "                                <td id=\"T_dd20058a_a85f_11eb_a249_0242ac1c0002row4_col0\" class=\"data row4 col0\" >Stacking Classifier</td>\n",
              "                        <td id=\"T_dd20058a_a85f_11eb_a249_0242ac1c0002row4_col1\" class=\"data row4 col1\" >0.8879</td>\n",
              "                        <td id=\"T_dd20058a_a85f_11eb_a249_0242ac1c0002row4_col2\" class=\"data row4 col2\" >0.9352</td>\n",
              "                        <td id=\"T_dd20058a_a85f_11eb_a249_0242ac1c0002row4_col3\" class=\"data row4 col3\" >0.8814</td>\n",
              "                        <td id=\"T_dd20058a_a85f_11eb_a249_0242ac1c0002row4_col4\" class=\"data row4 col4\" >0.8966</td>\n",
              "                        <td id=\"T_dd20058a_a85f_11eb_a249_0242ac1c0002row4_col5\" class=\"data row4 col5\" >0.8889</td>\n",
              "                        <td id=\"T_dd20058a_a85f_11eb_a249_0242ac1c0002row4_col6\" class=\"data row4 col6\" >0.7759</td>\n",
              "                        <td id=\"T_dd20058a_a85f_11eb_a249_0242ac1c0002row4_col7\" class=\"data row4 col7\" >0.7760</td>\n",
              "            </tr>\n",
              "            <tr>\n",
              "                                <td id=\"T_dd20058a_a85f_11eb_a249_0242ac1c0002row5_col0\" class=\"data row5 col0\" >Voting Classifier</td>\n",
              "                        <td id=\"T_dd20058a_a85f_11eb_a249_0242ac1c0002row5_col1\" class=\"data row5 col1\" >0.8793</td>\n",
              "                        <td id=\"T_dd20058a_a85f_11eb_a249_0242ac1c0002row5_col2\" class=\"data row5 col2\" >0.8799</td>\n",
              "                        <td id=\"T_dd20058a_a85f_11eb_a249_0242ac1c0002row5_col3\" class=\"data row5 col3\" >0.8475</td>\n",
              "                        <td id=\"T_dd20058a_a85f_11eb_a249_0242ac1c0002row5_col4\" class=\"data row5 col4\" >0.9091</td>\n",
              "                        <td id=\"T_dd20058a_a85f_11eb_a249_0242ac1c0002row5_col5\" class=\"data row5 col5\" >0.8772</td>\n",
              "                        <td id=\"T_dd20058a_a85f_11eb_a249_0242ac1c0002row5_col6\" class=\"data row5 col6\" >0.7588</td>\n",
              "                        <td id=\"T_dd20058a_a85f_11eb_a249_0242ac1c0002row5_col7\" class=\"data row5 col7\" >0.7606</td>\n",
              "            </tr>\n",
              "            <tr>\n",
              "                                <td id=\"T_dd20058a_a85f_11eb_a249_0242ac1c0002row6_col0\" class=\"data row6 col0\" >Naive Bayes</td>\n",
              "                        <td id=\"T_dd20058a_a85f_11eb_a249_0242ac1c0002row6_col1\" class=\"data row6 col1\" >0.7414</td>\n",
              "                        <td id=\"T_dd20058a_a85f_11eb_a249_0242ac1c0002row6_col2\" class=\"data row6 col2\" >0.8412</td>\n",
              "                        <td id=\"T_dd20058a_a85f_11eb_a249_0242ac1c0002row6_col3\" class=\"data row6 col3\" >0.6441</td>\n",
              "                        <td id=\"T_dd20058a_a85f_11eb_a249_0242ac1c0002row6_col4\" class=\"data row6 col4\" >0.8085</td>\n",
              "                        <td id=\"T_dd20058a_a85f_11eb_a249_0242ac1c0002row6_col5\" class=\"data row6 col5\" >0.7170</td>\n",
              "                        <td id=\"T_dd20058a_a85f_11eb_a249_0242ac1c0002row6_col6\" class=\"data row6 col6\" >0.4844</td>\n",
              "                        <td id=\"T_dd20058a_a85f_11eb_a249_0242ac1c0002row6_col7\" class=\"data row6 col7\" >0.4951</td>\n",
              "            </tr>\n",
              "            <tr>\n",
              "                                <td id=\"T_dd20058a_a85f_11eb_a249_0242ac1c0002row7_col0\" class=\"data row7 col0\" >K Neighbors Classifier</td>\n",
              "                        <td id=\"T_dd20058a_a85f_11eb_a249_0242ac1c0002row7_col1\" class=\"data row7 col1\" >0.7672</td>\n",
              "                        <td id=\"T_dd20058a_a85f_11eb_a249_0242ac1c0002row7_col2\" class=\"data row7 col2\" >0.8751</td>\n",
              "                        <td id=\"T_dd20058a_a85f_11eb_a249_0242ac1c0002row7_col3\" class=\"data row7 col3\" >0.6102</td>\n",
              "                        <td id=\"T_dd20058a_a85f_11eb_a249_0242ac1c0002row7_col4\" class=\"data row7 col4\" >0.9000</td>\n",
              "                        <td id=\"T_dd20058a_a85f_11eb_a249_0242ac1c0002row7_col5\" class=\"data row7 col5\" >0.7273</td>\n",
              "                        <td id=\"T_dd20058a_a85f_11eb_a249_0242ac1c0002row7_col6\" class=\"data row7 col6\" >0.5370</td>\n",
              "                        <td id=\"T_dd20058a_a85f_11eb_a249_0242ac1c0002row7_col7\" class=\"data row7 col7\" >0.5680</td>\n",
              "            </tr>\n",
              "    </tbody></table>"
            ],
            "text/plain": [
              "<pandas.io.formats.style.Styler at 0x7f6bcae6d590>"
            ]
          },
          "metadata": {
            "tags": []
          },
          "execution_count": 6
        }
      ]
    },
    {
      "cell_type": "markdown",
      "metadata": {
        "id": "hJvlxalZmGW6"
      },
      "source": [
        "### 5.4 SELECTED MODEL"
      ]
    },
    {
      "cell_type": "markdown",
      "metadata": {
        "id": "RafrMrcI_6lo"
      },
      "source": [
        "As we could see, although the \"*Decision Tree Classifier*\" model had the highest **Recall**, the other metrics are significantly low. For that reason the chosen model is \"***Logistic Regression***\" for being the second best in terms of **Recall** and the best in **Accuracy** and **F1**."
      ]
    },
    {
      "cell_type": "code",
      "metadata": {
        "id": "X66pPWkHNgqu",
        "outputId": "f30988f6-a521-4ad8-d14c-5c6d850b78b7",
        "colab": {
          "base_uri": "https://localhost:8080/"
        }
      },
      "source": [
        "#Parameters of the selected model\n",
        "lr_tuned"
      ],
      "execution_count": 7,
      "outputs": [
        {
          "output_type": "execute_result",
          "data": {
            "text/plain": [
              "LogisticRegression(C=0.772, class_weight={}, dual=False, fit_intercept=True,\n",
              "                   intercept_scaling=1, l1_ratio=None, max_iter=1000,\n",
              "                   multi_class='auto', n_jobs=None, penalty='l2',\n",
              "                   random_state=141414, solver='lbfgs', tol=0.0001, verbose=0,\n",
              "                   warm_start=False)"
            ]
          },
          "metadata": {
            "tags": []
          },
          "execution_count": 7
        }
      ]
    },
    {
      "cell_type": "code",
      "metadata": {
        "id": "RwthXlo5GAo-",
        "outputId": "82b10b7f-5b78-4d03-b8e0-267740c66b4b",
        "colab": {
          "base_uri": "https://localhost:8080/",
          "height": 514
        }
      },
      "source": [
        "plot_model(lr_tuned, plot = 'parameter')"
      ],
      "execution_count": 8,
      "outputs": [
        {
          "output_type": "display_data",
          "data": {
            "text/html": [
              "<div>\n",
              "<style scoped>\n",
              "    .dataframe tbody tr th:only-of-type {\n",
              "        vertical-align: middle;\n",
              "    }\n",
              "\n",
              "    .dataframe tbody tr th {\n",
              "        vertical-align: top;\n",
              "    }\n",
              "\n",
              "    .dataframe thead th {\n",
              "        text-align: right;\n",
              "    }\n",
              "</style>\n",
              "<table border=\"1\" class=\"dataframe\">\n",
              "  <thead>\n",
              "    <tr style=\"text-align: right;\">\n",
              "      <th></th>\n",
              "      <th>Parameters</th>\n",
              "    </tr>\n",
              "  </thead>\n",
              "  <tbody>\n",
              "    <tr>\n",
              "      <th>C</th>\n",
              "      <td>0.772</td>\n",
              "    </tr>\n",
              "    <tr>\n",
              "      <th>class_weight</th>\n",
              "      <td>{}</td>\n",
              "    </tr>\n",
              "    <tr>\n",
              "      <th>dual</th>\n",
              "      <td>False</td>\n",
              "    </tr>\n",
              "    <tr>\n",
              "      <th>fit_intercept</th>\n",
              "      <td>True</td>\n",
              "    </tr>\n",
              "    <tr>\n",
              "      <th>intercept_scaling</th>\n",
              "      <td>1</td>\n",
              "    </tr>\n",
              "    <tr>\n",
              "      <th>l1_ratio</th>\n",
              "      <td>None</td>\n",
              "    </tr>\n",
              "    <tr>\n",
              "      <th>max_iter</th>\n",
              "      <td>1000</td>\n",
              "    </tr>\n",
              "    <tr>\n",
              "      <th>multi_class</th>\n",
              "      <td>auto</td>\n",
              "    </tr>\n",
              "    <tr>\n",
              "      <th>n_jobs</th>\n",
              "      <td>None</td>\n",
              "    </tr>\n",
              "    <tr>\n",
              "      <th>penalty</th>\n",
              "      <td>l2</td>\n",
              "    </tr>\n",
              "    <tr>\n",
              "      <th>random_state</th>\n",
              "      <td>141414</td>\n",
              "    </tr>\n",
              "    <tr>\n",
              "      <th>solver</th>\n",
              "      <td>lbfgs</td>\n",
              "    </tr>\n",
              "    <tr>\n",
              "      <th>tol</th>\n",
              "      <td>0.0001</td>\n",
              "    </tr>\n",
              "    <tr>\n",
              "      <th>verbose</th>\n",
              "      <td>0</td>\n",
              "    </tr>\n",
              "    <tr>\n",
              "      <th>warm_start</th>\n",
              "      <td>False</td>\n",
              "    </tr>\n",
              "  </tbody>\n",
              "</table>\n",
              "</div>"
            ],
            "text/plain": [
              "                  Parameters\n",
              "C                      0.772\n",
              "class_weight              {}\n",
              "dual                   False\n",
              "fit_intercept           True\n",
              "intercept_scaling          1\n",
              "l1_ratio                None\n",
              "max_iter                1000\n",
              "multi_class             auto\n",
              "n_jobs                  None\n",
              "penalty                   l2\n",
              "random_state          141414\n",
              "solver                 lbfgs\n",
              "tol                   0.0001\n",
              "verbose                    0\n",
              "warm_start             False"
            ]
          },
          "metadata": {
            "tags": []
          }
        }
      ]
    },
    {
      "cell_type": "code",
      "metadata": {
        "id": "BUcU3arnGoXn",
        "outputId": "7828a2e3-92f8-4bb0-800f-f8c17698ffeb",
        "colab": {
          "base_uri": "https://localhost:8080/",
          "height": 376,
          "referenced_widgets": [
            "8cc7dc34572c4e2cb68fa52754eead4d",
            "534e113518464cbcb9cebdaa7bc2435d",
            "c82c540788914cb6bc955c40f0357d00"
          ]
        }
      },
      "source": [
        "#we can observe here that by maximizing the recall, the model chose \"0.772\" as the best parameter\n",
        "plot_model(lr_tuned, plot = 'threshold')"
      ],
      "execution_count": 9,
      "outputs": [
        {
          "output_type": "display_data",
          "data": {
            "image/png": "[encoded data removed]",
            "text/plain": [
              "<Figure size 576x396 with 1 Axes>"
            ]
          },
          "metadata": {
            "tags": []
          }
        }
      ]
    },
    {
      "cell_type": "code",
      "metadata": {
        "id": "2Gbj8U8H2IbI",
        "outputId": "b6a10cac-1383-479a-f018-f11c42127382",
        "colab": {
          "base_uri": "https://localhost:8080/",
          "height": 401
        }
      },
      "source": [
        "plot_model(lr_tuned,plot= 'class_report')"
      ],
      "execution_count": 10,
      "outputs": [
        {
          "output_type": "display_data",
          "data": {
            "image/png": "[encoded data removed]",
            "text/plain": [
              "<Figure size 576x396 with 2 Axes>"
            ]
          },
          "metadata": {
            "tags": []
          }
        }
      ]
    },
    {
      "cell_type": "code",
      "metadata": {
        "id": "Oj8mtuo818Cl",
        "outputId": "62cf4b6c-0ef9-407f-ba4e-78c70571dae8",
        "colab": {
          "base_uri": "https://localhost:8080/",
          "height": 401
        }
      },
      "source": [
        "plot_model(lr_tuned,plot = 'confusion_matrix') "
      ],
      "execution_count": 11,
      "outputs": [
        {
          "output_type": "display_data",
          "data": {
            "image/png": "[encoded data removed]",
            "text/plain": [
              "<Figure size 576x396 with 1 Axes>"
            ]
          },
          "metadata": {
            "tags": []
          }
        }
      ]
    },
    {
      "cell_type": "markdown",
      "metadata": {
        "id": "a8-6SF6v-ZnF"
      },
      "source": [
        "## 6.MODEL ANALYSIS"
      ]
    },
    {
      "cell_type": "markdown",
      "metadata": {
        "id": "LZwX4VAGmm2_"
      },
      "source": [
        "Bellow are some plots that can help us understand how the chosen model behaves and how it seems to not be overfitting."
      ]
    },
    {
      "cell_type": "code",
      "metadata": {
        "id": "gePa0ZfWFpmT",
        "outputId": "96a906e5-0ba2-4cd2-8d53-1bc7fb7196a1",
        "colab": {
          "base_uri": "https://localhost:8080/",
          "height": 401
        }
      },
      "source": [
        "plot_model(lr_tuned, plot = 'error')"
      ],
      "execution_count": 12,
      "outputs": [
        {
          "output_type": "display_data",
          "data": {
            "image/png": "[encoded data removed]",
            "text/plain": [
              "<Figure size 576x396 with 1 Axes>"
            ]
          },
          "metadata": {
            "tags": []
          }
        }
      ]
    },
    {
      "cell_type": "code",
      "metadata": {
        "id": "UFpucqU3FkyL",
        "outputId": "3030f3ed-160b-4d66-e8a3-8a36c9a52aef",
        "colab": {
          "base_uri": "https://localhost:8080/",
          "height": 376
        }
      },
      "source": [
        "plot_model(lr_tuned, plot = 'pr')"
      ],
      "execution_count": 13,
      "outputs": [
        {
          "output_type": "display_data",
          "data": {
            "image/png": "[encoded data removed]",
            "text/plain": [
              "<Figure size 576x396 with 1 Axes>"
            ]
          },
          "metadata": {
            "tags": []
          }
        }
      ]
    },
    {
      "cell_type": "code",
      "metadata": {
        "id": "U6luYGRIQogh",
        "outputId": "12d1fe96-7536-4837-8aca-4b4dc35f54b8",
        "colab": {
          "base_uri": "https://localhost:8080/",
          "height": 376
        }
      },
      "source": [
        "plot_model(lr_tuned, plot = 'auc')"
      ],
      "execution_count": 14,
      "outputs": [
        {
          "output_type": "display_data",
          "data": {
            "image/png": "[encoded data removed]",
            "text/plain": [
              "<Figure size 576x396 with 1 Axes>"
            ]
          },
          "metadata": {
            "tags": []
          }
        }
      ]
    },
    {
      "cell_type": "code",
      "metadata": {
        "id": "NRJJ82J1etmt",
        "outputId": "a2df817e-d8c6-4571-be77-fa571c6905fd",
        "colab": {
          "base_uri": "https://localhost:8080/",
          "height": 376,
          "referenced_widgets": [
            "837db6cf9c5d42399e67b02be54207ea",
            "49a42be68f084ebab4afd72512e0153c",
            "126a6d596b064d9d9f47d5c617924bae"
          ]
        }
      },
      "source": [
        "plot_model(lr_tuned, plot = 'learning') "
      ],
      "execution_count": 15,
      "outputs": [
        {
          "output_type": "display_data",
          "data": {
            "image/png": "[encoded data removed]",
            "text/plain": [
              "<Figure size 576x396 with 1 Axes>"
            ]
          },
          "metadata": {
            "tags": []
          }
        }
      ]
    },
    {
      "cell_type": "markdown",
      "metadata": {
        "id": "7AUVy1Wzg_lR"
      },
      "source": [
        "## 7.FINALIZING AND SAVING MODEL"
      ]
    },
    {
      "cell_type": "markdown",
      "metadata": {
        "id": "Hi7g8zAwgWjs"
      },
      "source": [
        "If the given model is good enough to be used for production we can finalize it using all the data available and save it for later use."
      ]
    },
    {
      "cell_type": "code",
      "metadata": {
        "id": "m42YzlxzVUlK",
        "outputId": "9a45f6ce-66ca-425a-dcb8-415f83bca43e",
        "colab": {
          "base_uri": "https://localhost:8080/"
        }
      },
      "source": [
        "#FINALIZING MODEL\n",
        "final_model_ICU = finalize_model(lr_tuned)\n",
        "final_model_metrics = pull()\n",
        "#SAVING MODEL\n",
        "save_model(final_model_ICU, 'lr_model_ICU')\n",
        "\n",
        "#LOADING MODEL\n",
        "lr_model_ICU = load_model('lr_model_ICU')"
      ],
      "execution_count": 16,
      "outputs": [
        {
          "output_type": "stream",
          "text": [
            "Transformation Pipeline and Model Succesfully Saved\n",
            "Transformation Pipeline and Model Successfully Loaded\n"
          ],
          "name": "stdout"
        }
      ]
    },
    {
      "cell_type": "code",
      "metadata": {
        "id": "bn03FRNUEAW7",
        "outputId": "8706b694-2e08-4c83-86ef-7badeac9b7d1",
        "colab": {
          "base_uri": "https://localhost:8080/",
          "height": 80
        }
      },
      "source": [
        "#This is the model trained using all the data (train and test). The Idea is that the model was validated and is ready to be put into production.\n",
        "final_model_metrics"
      ],
      "execution_count": 17,
      "outputs": [
        {
          "output_type": "execute_result",
          "data": {
            "text/html": [
              "<div>\n",
              "<style scoped>\n",
              "    .dataframe tbody tr th:only-of-type {\n",
              "        vertical-align: middle;\n",
              "    }\n",
              "\n",
              "    .dataframe tbody tr th {\n",
              "        vertical-align: top;\n",
              "    }\n",
              "\n",
              "    .dataframe thead th {\n",
              "        text-align: right;\n",
              "    }\n",
              "</style>\n",
              "<table border=\"1\" class=\"dataframe\">\n",
              "  <thead>\n",
              "    <tr style=\"text-align: right;\">\n",
              "      <th></th>\n",
              "      <th>Model</th>\n",
              "      <th>Accuracy</th>\n",
              "      <th>AUC</th>\n",
              "      <th>Recall</th>\n",
              "      <th>Prec.</th>\n",
              "      <th>F1</th>\n",
              "      <th>Kappa</th>\n",
              "      <th>MCC</th>\n",
              "    </tr>\n",
              "  </thead>\n",
              "  <tbody>\n",
              "    <tr>\n",
              "      <th>0</th>\n",
              "      <td>Stacking Classifier</td>\n",
              "      <td>0.8879</td>\n",
              "      <td>0.9352</td>\n",
              "      <td>0.8814</td>\n",
              "      <td>0.8966</td>\n",
              "      <td>0.8889</td>\n",
              "      <td>0.7759</td>\n",
              "      <td>0.776</td>\n",
              "    </tr>\n",
              "  </tbody>\n",
              "</table>\n",
              "</div>"
            ],
            "text/plain": [
              "                 Model  Accuracy     AUC  Recall   Prec.      F1   Kappa    MCC\n",
              "0  Stacking Classifier    0.8879  0.9352  0.8814  0.8966  0.8889  0.7759  0.776"
            ]
          },
          "metadata": {
            "tags": []
          },
          "execution_count": 17
        }
      ]
    },
    {
      "cell_type": "markdown",
      "metadata": {
        "id": "XifMp_oWhlXs"
      },
      "source": [
        "## 8.CONCLUSION"
      ]
    },
    {
      "cell_type": "markdown",
      "metadata": {
        "id": "cOWOy8sfhnPH"
      },
      "source": [
        "The metrics of recall and precision seems to be satisfatory, since we tried to avoid overfitting by reducing the number of features used (PCA 95% of variability). However, we need to take in consideration that our problem deals with human lives and this model do not achieve 0% erro. This mean that in we could be putting some life in danger if the output of the model is the only factor to be analysed.\n",
        "\n",
        "This model certainly can be used to enhance the decision making but **this decision cannot be made by using solely the model!**. This model should be used as one of factor out of many to be taken in consideration."
      ]
    }
  ]
}